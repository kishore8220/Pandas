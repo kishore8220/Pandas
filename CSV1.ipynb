{
  "nbformat": 4,
  "nbformat_minor": 0,
  "metadata": {
    "colab": {
      "provenance": [],
      "authorship_tag": "ABX9TyPziDO+AupAjVHd7oqDt8LQ",
      "include_colab_link": true
    },
    "kernelspec": {
      "name": "python3",
      "display_name": "Python 3"
    },
    "language_info": {
      "name": "python"
    }
  },
  "cells": [
    {
      "cell_type": "markdown",
      "metadata": {
        "id": "view-in-github",
        "colab_type": "text"
      },
      "source": [
        "<a href=\"https://colab.research.google.com/github/kishore8220/Pandas/blob/main/CSV1.ipynb\" target=\"_parent\"><img src=\"https://colab.research.google.com/assets/colab-badge.svg\" alt=\"Open In Colab\"/></a>"
      ]
    },
    {
      "cell_type": "code",
      "execution_count": 29,
      "metadata": {
        "id": "y_EDFqVRHAGS"
      },
      "outputs": [],
      "source": [
        "import pandas as pd\n",
        "\n",
        "#Skipping the row\n",
        "\n",
        "df = pd.read_csv(\"/content/detail.csv\",skiprows=0)\n",
        "\n",
        "# Remove The headers or Column Names\n",
        "\n",
        "df=pd.read_csv(\"/content/detail.csv\",header=None)\n",
        "\n",
        "# To give Column Names\n",
        "\n",
        "df=pd.read_csv(\"/content/detail.csv\",names=['Name','Class','M1','M2'])\n",
        "\n",
        "# Changing the empty Values To NaN(for all columns)\n",
        "\n",
        "df=pd.read_csv(\"/content/detail.csv\",na_values=['Not','Na'])\n",
        "\n",
        "# Changing the empty Values To NaN(for specified columns)\n",
        "\n",
        "df=pd.read_csv(\"/content/detail.csv\",na_values={\n",
        "    'Mark2':['Na','Not']\n",
        "})\n",
        "\n",
        "# Number of you Want to read\n",
        "\n",
        "df=pd.read_csv(\"/content/detail.csv\",nrows=2)\n",
        "\n",
        "# to Convert Csv file and Index is Not there\n",
        "\n",
        "df.to_csv(\"new.csv\",index=False)\n",
        "\n",
        "# to Convert Csv file  With specified columns\n",
        "\n",
        "df.to_csv(\"new.csv\",columns=['Name','Class'])\n",
        "\n",
        "# to Convert Csv file and Header is Not There\n",
        "\n",
        "df.to_csv(\"new.csv\",header=False)"
      ]
    }
  ]
}